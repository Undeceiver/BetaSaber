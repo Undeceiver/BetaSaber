{
 "cells": [
  {
   "cell_type": "markdown",
   "id": "950487e0-780c-4d69-b7ab-a73c0a7f92cb",
   "metadata": {},
   "source": [
    "## Imports"
   ]
  },
  {
   "cell_type": "code",
   "execution_count": 137,
   "id": "aece9895-94a0-4aca-b9ba-2b569a637b13",
   "metadata": {},
   "outputs": [],
   "source": [
    "#import copy\n",
    "import json\n",
    "import math\n",
    "#import pprint\n",
    "import random\n",
    "#import scipy\n",
    "import sklearn\n",
    "#import statistics\n",
    "import matplotlib.pyplot as plt\n",
    "import numpy\n",
    "from scipy.stats import beta\n",
    "from scipy.optimize import least_squares\n",
    "from sklearn.metrics import r2_score"
   ]
  },
  {
   "cell_type": "markdown",
   "id": "20b18933-76dc-4355-8329-fe9bf7bbb76b",
   "metadata": {},
   "source": [
    "## Data loading and preprocessing"
   ]
  },
  {
   "cell_type": "code",
   "execution_count": 3,
   "id": "ac7be4f4-f495-48d3-8626-3d8dd0544b0b",
   "metadata": {},
   "outputs": [],
   "source": [
    "ranked_data_path = f\"export.json\"\n",
    "ranked_data_file = open(ranked_data_path,encoding=\"utf-8\")\n",
    "ranked_data = json.load(ranked_data_file)"
   ]
  },
  {
   "cell_type": "code",
   "execution_count": 4,
   "id": "11db30f3-b3fd-44da-951d-b2a7993ce26a",
   "metadata": {},
   "outputs": [],
   "source": [
    "players = ranked_data[\"Players\"]\n",
    "maps = ranked_data[\"Maps\"]\n",
    "scores = ranked_data[\"Scores\"]"
   ]
  },
  {
   "cell_type": "code",
   "execution_count": 40,
   "id": "3c9ce6d2-f75c-4479-8d6b-1ebbbabe840f",
   "metadata": {},
   "outputs": [
    {
     "name": "stdout",
     "output_type": "stream",
     "text": [
      "3058785\n",
      "2656447\n",
      "0.8684647662388825\n"
     ]
    }
   ],
   "source": [
    "min_score = 0.7\n",
    "filtered_scores = [score for score in scores if score[\"Accuracy\"] > min_score and score[\"Accuracy\"] < 1.0 and score[\"Modifiers\"] == \"\"]\n",
    "print(len(scores))\n",
    "print(len(filtered_scores))\n",
    "print(len(filtered_scores)/len(scores))"
   ]
  },
  {
   "cell_type": "code",
   "execution_count": 41,
   "id": "706d04be-2f02-46f5-8b5a-727e61a9316c",
   "metadata": {},
   "outputs": [],
   "source": [
    "players_by_id = {player[\"Id\"] : player for player in players}\n",
    "maps_by_id = {bmap[\"Id\"] : bmap for bmap in maps}"
   ]
  },
  {
   "cell_type": "code",
   "execution_count": 54,
   "id": "31a63d85-c78f-4db5-bc8e-5d3f6860b11f",
   "metadata": {},
   "outputs": [],
   "source": [
    "scores_by_player_id = {}\n",
    "scores_by_map_id = {}\n",
    "score_data_by_map_id = {}\n",
    "\n",
    "def add_score(score):\n",
    "    player_id = score[\"PlayerId\"]\n",
    "    map_id = score[\"LeaderboardId\"]\n",
    "    \n",
    "    player_map = scores_by_player_id.get(player_id,{})\n",
    "    player_map[map_id] = score\n",
    "    \n",
    "    scores_by_player_id[player_id] = player_map    \n",
    "\n",
    "\n",
    "    \n",
    "    map_map = scores_by_map_id.get(map_id,{})\n",
    "    map_map[player_id] = score\n",
    "    \n",
    "    scores_by_map_id[map_id] = map_map   \n",
    "\n",
    "\n",
    "    \n",
    "    score_data = score_data_by_map_id.get(map_id,[])\n",
    "\n",
    "    score_data.append(score[\"Accuracy\"])\n",
    "\n",
    "    score_data_by_map_id[map_id] = score_data\n",
    "\n",
    "for score in filtered_scores:\n",
    "    add_score(score)"
   ]
  },
  {
   "cell_type": "markdown",
   "id": "7955a2d5-e895-4d01-ad52-b7bae272537b",
   "metadata": {},
   "source": [
    "## Fitting a map's scores to a beta distribution"
   ]
  },
  {
   "cell_type": "code",
   "execution_count": 61,
   "id": "9407d179-64fa-4670-9906-21bf83bafdad",
   "metadata": {},
   "outputs": [],
   "source": [
    "def fit_scores_beta(scores):\n",
    "    (a, b, loc, scale) = beta.fit(scores, floc=0, fscale=1)\n",
    "    return (a,b)\n",
    "\n",
    "beta_parameters_per_map = {}\n",
    "\n",
    "for map_id,scores in score_data_by_map_id.items():\n",
    "    beta_parameters_per_map[map_id] = fit_scores_beta(scores)"
   ]
  },
  {
   "cell_type": "code",
   "execution_count": 125,
   "id": "2cd5d747-6576-43d7-99f8-f8b76b4f97d2",
   "metadata": {},
   "outputs": [],
   "source": [
    "# Using least squares\n",
    "# Some help from ChatGPT used here (adapted)\n",
    "def residuals(params, scores):\n",
    "    scores.sort()\n",
    "    \n",
    "    empirical_cdf = numpy.arange(1, len(scores) + 1) / len(scores)\n",
    "    \n",
    "    a, b = params\n",
    "    model_cdf = beta.cdf(scores, a, b)\n",
    "    return model_cdf - empirical_cdf\n",
    "\n",
    "def fit_scores_beta_least_squares(scores, initial_params):\n",
    "    residuals_lambda = lambda params:residuals(params,scores)\n",
    "    \n",
    "    result = least_squares(residuals_lambda, initial_params)\n",
    "    \n",
    "    return result.x\n",
    "\n",
    "least_squares_beta_parameters_per_map = {}\n",
    "\n",
    "for map_id,scores in score_data_by_map_id.items():\n",
    "    initial_params = beta_parameters_per_map[map_id]\n",
    "\n",
    "    least_squares_beta_parameters_per_map[map_id] = fit_scores_beta_least_squares(scores, initial_params)"
   ]
  },
  {
   "cell_type": "markdown",
   "id": "ee989a1b-6c40-4138-af2b-ef1da769f62f",
   "metadata": {},
   "source": [
    "## Some metrics for evaluation"
   ]
  },
  {
   "cell_type": "code",
   "execution_count": 147,
   "id": "4ae86fb5-2f19-4f76-b735-1dbac170f170",
   "metadata": {},
   "outputs": [],
   "source": [
    "# R squared\n",
    "def r_squared_beta(params, scores):\n",
    "    # We presume the scores are sorted for performance!\n",
    "    #scores.sort()\n",
    "    \n",
    "    empirical_cdf = numpy.arange(1, len(scores) + 1) / len(scores)\n",
    "    \n",
    "    a, b = params\n",
    "    model_cdf = beta.cdf(scores, a, b)\n",
    "\n",
    "    return r2_score(empirical_cdf, model_cdf)\n",
    "\n",
    "# Quantiles\n",
    "def quantiles_beta(params, scores, n_quantiles):    \n",
    "    # We presume the scores are sorted for performance!\n",
    "    #scores.sort()\n",
    "    \n",
    "    quantiles = numpy.arange(1, n_quantiles) / n_quantiles\n",
    "\n",
    "    n = len(scores)    \n",
    "\n",
    "    def empirical_quantile(quantile):\n",
    "        return scores[math.floor(n*quantile)]\n",
    "\n",
    "    a, b = params\n",
    "    def model_quantile(quantile):\n",
    "        return beta.ppf(quantile, a, b)        \n",
    "        \n",
    "    return {quantile:(empirical_quantile(quantile),model_quantile(quantile)) for quantile in quantiles}\n",
    "\n",
    "n_quantiles = 10\n",
    "beta_r_squared_values = {}\n",
    "beta_quantile_values = {}\n",
    "least_squares_beta_r_squared_values = {}\n",
    "least_squares_beta_quantile_values = {}\n",
    "\n",
    "for map_id,scores in score_data_by_map_id.items():\n",
    "    params = beta_parameters_per_map[map_id]\n",
    "    least_squares_params = least_squares_beta_parameters_per_map[map_id]\n",
    "    \n",
    "    beta_r_squared_values[map_id] = r_squared_beta(params,scores)\n",
    "    beta_quantile_values[map_id] = quantiles_beta(params,scores,n_quantiles)\n",
    "    least_squares_beta_r_squared_values[map_id] = r_squared_beta(least_squares_params,scores)\n",
    "    least_squares_beta_quantile_values[map_id] = quantiles_beta(least_squares_params,scores,n_quantiles)"
   ]
  },
  {
   "cell_type": "markdown",
   "id": "9d3f1217-088c-4755-aa04-8951dd6ebb29",
   "metadata": {},
   "source": [
    "## Plots"
   ]
  },
  {
   "cell_type": "code",
   "execution_count": 173,
   "id": "3b71301b-6e06-4816-8f2e-11b156e06e8a",
   "metadata": {},
   "outputs": [],
   "source": [
    "def show_map_density(map_id):        \n",
    "    (mla,mlb) = beta_parameters_per_map[map_id]\n",
    "    (lsa,lsb) = least_squares_beta_parameters_per_map[map_id]\n",
    "    \n",
    "    scores = score_data_by_map_id[map_id]\n",
    "    \n",
    "    plt.hist(scores,bins=15,density=True,label=\"Real scores\")\n",
    "    ml_fitted = lambda x:beta.pdf(x,mla,mlb)\n",
    "    ls_fitted = lambda x:beta.pdf(x,lsa,lsb)\n",
    "    \n",
    "    xx = numpy.linspace(0,1,len(scores))\n",
    "      \n",
    "    plt.plot(xx,ml_fitted(xx),\"g\",label=\"Maximum likelihood estimation\")\n",
    "    plt.plot(xx,ls_fitted(xx),\"r\",label=\"Least squares estimation\")\n",
    "\n",
    "    map_data = maps_by_id[map_id]\n",
    "    map_name = map_data[\"Name\"]\n",
    "    map_mapper = map_data[\"Mapper\"]\n",
    "    map_mode = map_data[\"ModeName\"]\n",
    "    map_difficulty = map_data[\"DifficultyName\"]\n",
    "    \n",
    "    plt.title(f\"Score density for {map_name} (by {map_mapper}) - {map_mode} {map_difficulty}\")\n",
    "    plt.xlabel(\"Score percentage\")\n",
    "    plt.ylabel(\"Proportion of scores\")\n",
    "    \n",
    "    plt.show()"
   ]
  },
  {
   "cell_type": "code",
   "execution_count": 163,
   "id": "c384b2ee-6562-4643-bdf9-444ec3d830ef",
   "metadata": {},
   "outputs": [],
   "source": [
    "def show_map_distribution(map_id):        \n",
    "    (mla,mlb) = beta_parameters_per_map[map_id]\n",
    "    (lsa,lsb) = least_squares_beta_parameters_per_map[map_id]\n",
    "    \n",
    "    scores = score_data_by_map_id[map_id]\n",
    "    \n",
    "    plt.hist(scores,bins=15,density=True,cumulative=True,label=\"Cumulative real scores\")\n",
    "    ml_fitted = lambda x:beta.cdf(x,mla,mlb)\n",
    "    ls_fitted = lambda x:beta.cdf(x,lsa,lsb)\n",
    "    \n",
    "    xx = numpy.linspace(0,1,len(scores))\n",
    "    \n",
    "    plt.plot(xx,ml_fitted(xx),\"g\",label=\"Maximum likelihood estimation\")\n",
    "    plt.plot(xx,ls_fitted(xx),\"r\",label=\"Least squares estimation\")\n",
    "\n",
    "    map_data = maps_by_id[map_id]\n",
    "    map_name = map_data[\"Name\"]\n",
    "    map_mapper = map_data[\"Mapper\"]\n",
    "    map_mode = map_data[\"ModeName\"]\n",
    "    map_difficulty = map_data[\"DifficultyName\"]\n",
    "    \n",
    "    plt.title(f\"Proposed PP curve shape for {map_name} (by {map_mapper}) - {map_mode} {map_difficulty}\")\n",
    "    plt.xlabel(\"Score percentage\")\n",
    "    plt.ylabel(\"PP weight\")\n",
    "    \n",
    "    plt.show()"
   ]
  },
  {
   "cell_type": "markdown",
   "id": "5a9238d9-fb5e-4cab-a3c8-a0b44dd6d57c",
   "metadata": {},
   "source": [
    "## Results exploration"
   ]
  },
  {
   "cell_type": "code",
   "execution_count": 164,
   "id": "7e3593df-cc26-4658-9ee0-5f828f3def8c",
   "metadata": {},
   "outputs": [],
   "source": [
    "def map_summary(map_id):\n",
    "    map_data = maps_by_id[map_id]\n",
    "    print(map_data)\n",
    "    print(f\"Maximum likelihood estimator: {beta_parameters_per_map[map_id]}\")\n",
    "    print(f\"Maximum likelihood R squared: {beta_r_squared_values[map_id]}\")\n",
    "    print(f\"Maximum likelihood quantiles: {beta_quantile_values[map_id]}\")\n",
    "    print(f\"Least squares estimator: {least_squares_beta_parameters_per_map[map_id]}\")\n",
    "    print(f\"Least squares R squared: {least_squares_beta_r_squared_values[map_id]}\")\n",
    "    print(f\"Least squares quantiles: {least_squares_beta_quantile_values[map_id]}\")    \n",
    "    show_map_density(map_id)\n",
    "    show_map_distribution(map_id)\n",
    "\n",
    "def random_map_summary():\n",
    "    random_map = random.choice(maps)\n",
    "    map_id = random_map[\"Id\"]\n",
    "    map_summary(map_id)"
   ]
  },
  {
   "cell_type": "code",
   "execution_count": null,
   "id": "6f24ee2e-8a97-4b68-815c-05c078dad527",
   "metadata": {},
   "outputs": [],
   "source": [
    "best_r_squared_map_id = None\n",
    "worst_r_squared_map_id = None\n",
    "worst_quantile_map_id = None\n",
    "\n",
    "for map_id in maps_by_id:\n",
    "    r_squared = least_squares_beta_parameters_per_map["
   ]
  },
  {
   "cell_type": "markdown",
   "id": "33d7f1e1-cff4-4ff1-b942-e20c43536f7a",
   "metadata": {},
   "source": [
    "## Dirty testing"
   ]
  },
  {
   "cell_type": "code",
   "execution_count": 69,
   "id": "c8c911e5-a6a7-40fa-a295-e8b254948421",
   "metadata": {},
   "outputs": [
    {
     "data": {
      "text/plain": [
       "{'Id': 9029969,\n",
       " 'LeaderboardId': '1695b31',\n",
       " 'Accuracy': 0.7597153,\n",
       " 'Modifiers': '',\n",
       " 'PlayerId': '76561198129756000',\n",
       " 'Timepost': 1694226259,\n",
       " 'FC': False,\n",
       " 'FCAcc': 0.9008992}"
      ]
     },
     "execution_count": 69,
     "metadata": {},
     "output_type": "execute_result"
    }
   ],
   "source": [
    "filtered_scores[25000]"
   ]
  },
  {
   "cell_type": "code",
   "execution_count": 50,
   "id": "770da271-6944-4a23-93bf-6802fe513a0b",
   "metadata": {},
   "outputs": [
    {
     "data": {
      "text/plain": [
       "{'Id': 11208864,\n",
       " 'LeaderboardId': '1e0b511',\n",
       " 'Accuracy': 0.91385365,\n",
       " 'Modifiers': '',\n",
       " 'PlayerId': '76561199552394550',\n",
       " 'Timepost': 1703233783,\n",
       " 'FC': True,\n",
       " 'FCAcc': 0.91385365}"
      ]
     },
     "execution_count": 50,
     "metadata": {},
     "output_type": "execute_result"
    }
   ],
   "source": [
    "list(scores_by_map_id[\"1e0b511\"].values())[0]"
   ]
  },
  {
   "cell_type": "code",
   "execution_count": 56,
   "id": "53c808f6-9934-4c86-bea4-a8dab938e4a1",
   "metadata": {},
   "outputs": [
    {
     "data": {
      "text/plain": [
       "1263"
      ]
     },
     "execution_count": 56,
     "metadata": {},
     "output_type": "execute_result"
    }
   ],
   "source": [
    "len(score_data_by_map_id[\"7b3031\"])"
   ]
  },
  {
   "cell_type": "code",
   "execution_count": 59,
   "id": "2ba8f288-a071-4368-bc86-604c1350af39",
   "metadata": {},
   "outputs": [
    {
     "name": "stdout",
     "output_type": "stream",
     "text": [
      "33.92043139179413 1.5089826414045566 0 1\n"
     ]
    }
   ],
   "source": [
    "a1, b1, loc1, scale1 = beta.fit(score_data_by_map_id[\"1e0b511\"], floc=0, fscale=1)\n",
    "\n",
    "print(a1,b1,loc1,scale1)"
   ]
  },
  {
   "cell_type": "code",
   "execution_count": 70,
   "id": "4518d634-b516-40d4-ac6c-f0ec71aa2724",
   "metadata": {},
   "outputs": [
    {
     "data": {
      "text/plain": [
       "(19.426160617247593, 1.9530299835313356)"
      ]
     },
     "execution_count": 70,
     "metadata": {},
     "output_type": "execute_result"
    }
   ],
   "source": [
    "beta_parameters_per_map[\"1695b31\"]"
   ]
  },
  {
   "cell_type": "code",
   "execution_count": 172,
   "id": "4076f501-0893-4851-8d59-6e79a7f73307",
   "metadata": {},
   "outputs": [
    {
     "data": {
      "text/plain": [
       "{'Hash': '0b71ba47deef78a55c5709058abdb9b0849486f7',\n",
       " 'Name': 'I',\n",
       " 'CoverImage': 'https://eu.cdn.beatsaver.com/0b71ba47deef78a55c5709058abdb9b0849486f7.jpg',\n",
       " 'Mapper': 'Mystikmol & Moriik',\n",
       " 'Id': '1695b31',\n",
       " 'SongId': '1695b',\n",
       " 'ModeName': 'Standard',\n",
       " 'DifficultyName': 'Normal',\n",
       " 'AccRating': 5.876784,\n",
       " 'PassRating': 2.424829,\n",
       " 'TechRating': 1.8345768,\n",
       " 'PredictedAcc': 0.9872711,\n",
       " 'ModifiersRating': {'Id': 6653,\n",
       "  'SSPredictedAcc': 0.98847115,\n",
       "  'SSPassRating': 1.9027168,\n",
       "  'SSAccRating': 5.403316,\n",
       "  'SSTechRating': 1.5552086,\n",
       "  'SSStars': 3.3483102,\n",
       "  'FSPredictedAcc': 0.9856309,\n",
       "  'FSPassRating': 3.14529,\n",
       "  'FSAccRating': 6.526606,\n",
       "  'FSTechRating': 2.1477187,\n",
       "  'FSStars': 4.548198,\n",
       "  'SFPredictedAcc': 0.9832874,\n",
       "  'SFPassRating': 4.2490406,\n",
       "  'SFAccRating': 7.4459705,\n",
       "  'SFTechRating': 2.501836,\n",
       "  'SFStars': 5.5909376,\n",
       "  'BFSPredictedAcc': 0.986208,\n",
       "  'BFSPassRating': 3.220641,\n",
       "  'BFSAccRating': 6.1294746,\n",
       "  'BFSTechRating': 2.176296,\n",
       "  'BFSStars': 4.281431,\n",
       "  'BSFPredictedAcc': 0.98411226,\n",
       "  'BSFPassRating': 4.3484054,\n",
       "  'BSFAccRating': 6.9368243,\n",
       "  'BSFTechRating': 2.5277262,\n",
       "  'BSFStars': 5.231853}}"
      ]
     },
     "execution_count": 172,
     "metadata": {},
     "output_type": "execute_result"
    }
   ],
   "source": [
    "maps_by_id[\"1695b31\"]"
   ]
  },
  {
   "cell_type": "code",
   "execution_count": 93,
   "id": "19d93f61-0477-42e1-83cd-0301569b62d7",
   "metadata": {},
   "outputs": [
    {
     "data": {
      "text/plain": [
       "array([ 0.00410064,  0.00225577,  0.00022302, -0.00100882, -0.00224014,\n",
       "       -0.00389426, -0.00451915, -0.00628912, -0.00781758, -0.00935312,\n",
       "       -0.0084509 , -0.00529701, -0.00729225, -0.00860739, -0.01024064,\n",
       "       -0.01138119, -0.01317446, -0.01528246, -0.01514509, -0.01648933,\n",
       "       -0.01805429, -0.01866897, -0.01910424, -0.02105076, -0.02071996,\n",
       "       -0.02245415, -0.02362187, -0.02497897, -0.02455172, -0.0257534 ,\n",
       "       -0.02708019, -0.02915274, -0.03128977, -0.0323028 , -0.03169649,\n",
       "       -0.03369953, -0.03317392, -0.03367237, -0.02762009, -0.02713326,\n",
       "       -0.02823828, -0.02715896, -0.02893337, -0.02700832, -0.02664768,\n",
       "       -0.02569941, -0.02591788, -0.02632928, -0.02739757, -0.02710223,\n",
       "       -0.02377249, -0.02547502, -0.02560371, -0.02682995, -0.02844587,\n",
       "       -0.02780905, -0.02898762, -0.03034866, -0.0291863 , -0.02672309,\n",
       "       -0.02880948, -0.02890565, -0.02995721, -0.02340192, -0.02536677,\n",
       "       -0.026456  , -0.02828572, -0.02941452, -0.03011054, -0.03172295,\n",
       "       -0.0302858 , -0.03138263, -0.03209146, -0.03200875, -0.02645346,\n",
       "       -0.02524831, -0.02588329, -0.02782132, -0.02941069, -0.02847592,\n",
       "       -0.02705266, -0.02511968, -0.02707859, -0.02822068, -0.02520104,\n",
       "       -0.02641066, -0.02812098, -0.02826989, -0.02691281, -0.02438473,\n",
       "       -0.0256375 , -0.02747672, -0.02089059, -0.02190469, -0.02363109,\n",
       "       -0.02126201, -0.02247847, -0.02139825, -0.02212038, -0.01707624,\n",
       "       -0.01891844, -0.01498111,  0.00184955,  0.00090507,  0.00800272,\n",
       "        0.01065663,  0.01348362,  0.01368435,  0.01173195,  0.01028457,\n",
       "        0.00884922,  0.00942074,  0.00829187,  0.01554503,  0.01949536,\n",
       "        0.01859958,  0.01722315,  0.01696813,  0.01983547,  0.01944538,\n",
       "        0.01872742,  0.02001167,  0.01928945,  0.01721876,  0.01599553,\n",
       "        0.02318665,  0.02127515,  0.02163278,  0.02088117,  0.01933888,\n",
       "        0.03326357,  0.03195057,  0.03203552,  0.03029196,  0.03504998,\n",
       "        0.03292165,  0.03189119,  0.03356044,  0.03498347,  0.03579224,\n",
       "        0.03625621,  0.03474841,  0.03571972,  0.03570156,  0.03747754,\n",
       "        0.03630001,  0.03447573,  0.03462929,  0.03455693,  0.03666489,\n",
       "        0.03563373,  0.03679568,  0.04157038,  0.03948641,  0.04023918,\n",
       "        0.04219986,  0.04061171,  0.0393451 ,  0.03793357,  0.03583635,\n",
       "        0.03435302,  0.0335882 ,  0.03438849,  0.03645117,  0.03603662,\n",
       "        0.03852003,  0.03692019,  0.03599855,  0.03594168,  0.03823517,\n",
       "        0.03804861,  0.03664195,  0.03514446,  0.03352451,  0.03193573,\n",
       "        0.03855169,  0.04055399,  0.03996788,  0.03823521,  0.03871167,\n",
       "        0.0374719 ,  0.03832816,  0.03738048,  0.03860813,  0.04091651,\n",
       "        0.04059925,  0.03857071,  0.03816084,  0.03702527,  0.03859418,\n",
       "        0.03797177,  0.03620659,  0.03606408,  0.0346123 ,  0.03540033,\n",
       "        0.03560465,  0.0371123 ,  0.03949115,  0.03810318,  0.03772246,\n",
       "        0.0423595 ,  0.04023523,  0.03836506,  0.03890543,  0.03698515,\n",
       "        0.03652905,  0.03510388,  0.03325257,  0.03131597,  0.031551  ,\n",
       "        0.03210144,  0.03462859,  0.03892105,  0.03719763,  0.03594528,\n",
       "        0.03961171,  0.03764593,  0.03664603,  0.03695174,  0.03574519,\n",
       "        0.03637863,  0.03553025,  0.03342401,  0.0314957 ,  0.04100432,\n",
       "        0.04918547,  0.04846003,  0.04797292,  0.04659609,  0.04655081,\n",
       "        0.04603482,  0.04715113,  0.0455414 ,  0.04409716,  0.04841593,\n",
       "        0.05113982,  0.05395888,  0.05579026,  0.05497596,  0.05721845,\n",
       "        0.05906253,  0.06093773,  0.0631102 ,  0.06117689,  0.06095126,\n",
       "        0.06192574,  0.06389929,  0.06315124,  0.06244314,  0.06083696,\n",
       "        0.06171984,  0.06069069,  0.06446657,  0.06375014,  0.06247618,\n",
       "        0.06210934,  0.06041218,  0.05975786,  0.05945292,  0.06151439,\n",
       "        0.06121599,  0.06020122,  0.06194896,  0.06393843,  0.06371008,\n",
       "        0.06260408,  0.06235869,  0.06037416,  0.05928933,  0.05755848,\n",
       "        0.05561306,  0.05396116,  0.05205511,  0.05091238,  0.05012324,\n",
       "        0.04823709,  0.04921537,  0.05173227,  0.05431786,  0.05257073,\n",
       "        0.05301367,  0.05101055,  0.05009343,  0.05012576,  0.05087153,\n",
       "        0.0530268 ,  0.05110338,  0.04896205,  0.04953678,  0.04884364,\n",
       "        0.04745645,  0.0495852 ,  0.04786142,  0.05451539,  0.05253338,\n",
       "        0.05087004,  0.05652551,  0.05608019,  0.05493701,  0.05679018,\n",
       "        0.05776572,  0.05574426,  0.05530212,  0.05625947,  0.05471815,\n",
       "        0.05757707,  0.05611607,  0.05399435,  0.05185302,  0.04995168,\n",
       "        0.04869078,  0.04702953,  0.05081049,  0.05039017,  0.05028953,\n",
       "        0.04856847,  0.04654684,  0.04630645,  0.04452505,  0.04406427,\n",
       "        0.04546349,  0.04398201,  0.04350032,  0.04331855,  0.0421968 ,\n",
       "        0.04245387,  0.04328886,  0.04252581,  0.04092394,  0.04008007,\n",
       "        0.03879722,  0.03769379,  0.03732848,  0.03562588,  0.03511941,\n",
       "        0.03463296,  0.03498247,  0.03319957,  0.03229294,  0.03019182,\n",
       "        0.02894648,  0.02853639,  0.02768803,  0.03067357,  0.02855216,\n",
       "        0.02855431,  0.02746422,  0.02819675,  0.02967767,  0.02998749,\n",
       "        0.02798441,  0.02604064,  0.02583423,  0.03074504,  0.03551101,\n",
       "        0.03385899,  0.03263714,  0.03067221,  0.02855005,  0.02830554,\n",
       "        0.02651572,  0.03014399,  0.03235293,  0.03143239,  0.03012374,\n",
       "        0.03082447,  0.02962821,  0.02858646,  0.02661854,  0.02524786,\n",
       "        0.02431905,  0.02227402,  0.02020961,  0.02137112,  0.02024558,\n",
       "        0.02124057,  0.02011126,  0.01804613,  0.01620947,  0.01431628,\n",
       "        0.0126703 ,  0.01159573,  0.01205782,  0.01181202,  0.0107306 ,\n",
       "        0.01047821,  0.01005274,  0.00864553,  0.00671108,  0.00639238,\n",
       "        0.00715448,  0.00583534,  0.00460847,  0.00455345,  0.00334168,\n",
       "        0.00349958,  0.00148817, -0.00022759, -0.00209163, -0.00279182,\n",
       "       -0.00484099, -0.00571044, -0.00737295, -0.00557041, -0.00718146,\n",
       "       -0.00799054, -0.00367785, -0.00497271, -0.00693406, -0.00520319,\n",
       "       -0.0072549 , -0.00902133, -0.01085962, -0.01287581, -0.01391326,\n",
       "       -0.01440271, -0.01622515, -0.01250235, -0.01148787, -0.01352474,\n",
       "       -0.01514551, -0.01514158, -0.01669655, -0.01840708, -0.01729135,\n",
       "       -0.0168631 , -0.01520893, -0.0165457 , -0.01733329, -0.01723122,\n",
       "       -0.01622385, -0.01707202, -0.01794207, -0.01818624, -0.02002081,\n",
       "       -0.02151688, -0.02290239, -0.02141998, -0.02318116, -0.02445305,\n",
       "       -0.0241913 , -0.02067731, -0.02263513, -0.02375682, -0.02449021,\n",
       "       -0.02491824, -0.02620829, -0.02646533, -0.02690087, -0.02893949,\n",
       "       -0.02995749, -0.02797131, -0.02955922, -0.03090855, -0.03241631,\n",
       "       -0.0338146 , -0.03461916, -0.03542066, -0.03682115, -0.036843  ,\n",
       "       -0.03533648, -0.03394168, -0.03562409, -0.034505  , -0.02983818,\n",
       "       -0.02697386, -0.02765874])"
      ]
     },
     "execution_count": 93,
     "metadata": {},
     "output_type": "execute_result"
    }
   ],
   "source": [
    "residuals(beta_parameters_per_map[\"1695b31\"],score_data_by_map_id[\"1695b31\"])"
   ]
  },
  {
   "cell_type": "code",
   "execution_count": 80,
   "id": "67f7d0a4-6eea-4c01-a2eb-11ffa070b2fb",
   "metadata": {},
   "outputs": [
    {
     "data": {
      "image/png": "[encoded data removed]",
      "text/plain": [
       "<Figure size 640x480 with 1 Axes>"
      ]
     },
     "metadata": {},
     "output_type": "display_data"
    }
   ],
   "source": [
    "show_map_distribution(\"1695b31\")"
   ]
  },
  {
   "cell_type": "code",
   "execution_count": 171,
   "id": "e741df1f-5f17-456a-a2f8-a7ab71bc8e08",
   "metadata": {},
   "outputs": [
    {
     "name": "stdout",
     "output_type": "stream",
     "text": [
      "{'Hash': '7FCB2AE0881C36611F53C32F0D9BC3A1AA0E9BED', 'Name': 'Spring Thief', 'CoverImage': 'https://eu.cdn.beatsaver.com/7fcb2ae0881c36611f53c32f0d9bc3a1aa0e9bed.jpg', 'Mapper': 'AntiLink & TG90', 'Id': '1d9bcxx71', 'SongId': '1d9bcxx', 'ModeName': 'Standard', 'DifficultyName': 'Expert', 'AccRating': 7.343042, 'PassRating': 2.8592215, 'TechRating': 2.204699, 'PredictedAcc': 0.98353326, 'ModifiersRating': {'Id': 7439, 'SSPredictedAcc': 0.9848626, 'SSPassRating': 2.2564719, 'SSAccRating': 6.829646, 'SSTechRating': 1.8981538, 'SSStars': 4.499962, 'FSPredictedAcc': 0.9816729, 'FSPassRating': 3.6840212, 'FSAccRating': 8.060861, 'FSTechRating': 2.5351088, 'FSStars': 5.9148793, 'SFPredictedAcc': 0.97900224, 'SFPassRating': 5.0840764, 'SFAccRating': 9.050558, 'SFTechRating': 2.9769363, 'SFStars': 7.1778393, 'BFSPredictedAcc': 0.9824847, 'BFSPassRating': 3.7546043, 'BFSAccRating': 7.5790935, 'BFSTechRating': 2.5593526, 'BFSStars': 5.563738, 'BSFPredictedAcc': 0.97988147, 'BSFPassRating': 5.154095, 'BSFAccRating': 8.533039, 'BSFTechRating': 2.9837525, 'BSFStars': 6.779061}}\n",
      "Maximum likelihood estimator: (16.33743229924399, 2.4954984777362363)\n",
      "Maximum likelihood R squared: 0.9901961826315128\n",
      "Maximum likelihood quantiles: {0.1: (0.7622097, 0.7630783932611405), 0.2: (0.79805076, 0.807906815052668), 0.3: (0.8235566, 0.8374331983427475), 0.4: (0.84990793, 0.8606273810405272), 0.5: (0.87769574, 0.8805243932096615), 0.6: (0.89958525, 0.8986510498981406), 0.7: (0.9155827, 0.9160624563162735), 0.8: (0.93919784, 0.9338541360428818), 0.9: (0.9591044, 0.9540700497775498)}\n",
      "Least squares estimator: [13.36487904  2.14146275]\n",
      "Least squares R squared: 0.9960400593128184\n",
      "Least squares quantiles: {0.1: (0.7622097, 0.744794342752673), 0.2: (0.79805076, 0.7956748044735136), 0.3: (0.8235566, 0.8290935574418985), 0.4: (0.84990793, 0.8552217374998505), 0.5: (0.87769574, 0.8774960931936177), 0.6: (0.89958525, 0.897626398550348), 0.7: (0.9155827, 0.9167594817596568), 0.8: (0.93919784, 0.9360229624209283), 0.9: (0.9591044, 0.9573889392445417)}\n"
     ]
    },
    {
     "data": {
      "image/png": "[encoded data removed]",
      "text/plain": [
       "<Figure size 640x480 with 1 Axes>"
      ]
     },
     "metadata": {},
     "output_type": "display_data"
    },
    {
     "data": {
      "image/png": "[encoded data removed]",
      "text/plain": [
       "<Figure size 640x480 with 1 Axes>"
      ]
     },
     "metadata": {},
     "output_type": "display_data"
    }
   ],
   "source": [
    "random_map_summary()"
   ]
  },
  {
   "cell_type": "code",
   "execution_count": 101,
   "id": "66e98d2a-57e4-4ec4-9e70-179e51a44c86",
   "metadata": {},
   "outputs": [
    {
     "data": {
      "text/plain": [
       "array([18.58272426,  1.78339673])"
      ]
     },
     "execution_count": 101,
     "metadata": {},
     "output_type": "execute_result"
    }
   ],
   "source": [
    "fit_scores_beta_least_squares(score_data_by_map_id[\"1695b31\"],beta_parameters_per_map[\"1695b31\"])"
   ]
  },
  {
   "cell_type": "code",
   "execution_count": 126,
   "id": "05c446cd-733b-47ad-bfd8-b4447e917e06",
   "metadata": {},
   "outputs": [
    {
     "data": {
      "text/plain": [
       "0.9928630870356067"
      ]
     },
     "execution_count": 126,
     "metadata": {},
     "output_type": "execute_result"
    }
   ],
   "source": [
    "r_squared_beta(least_squares_beta_parameters_per_map[\"1695b31\"],score_data_by_map_id[\"1695b31\"])"
   ]
  },
  {
   "cell_type": "code",
   "execution_count": 145,
   "id": "04a05811-77ac-461e-86fd-9d35e59f53ae",
   "metadata": {},
   "outputs": [
    {
     "data": {
      "text/plain": [
       "{0.1: (0.8104506, 0.8286619174684986),\n",
       " 0.2: (0.8567577, 0.8670281243730755),\n",
       " 0.3: (0.894665, 0.8914925965919133),\n",
       " 0.4: (0.9120155, 0.9101713701215169),\n",
       " 0.5: (0.92767483, 0.925746950095162),\n",
       " 0.6: (0.94229084, 0.9395092080412275),\n",
       " 0.7: (0.9536495, 0.9522668033611762),\n",
       " 0.8: (0.9638578, 0.9647247108616468),\n",
       " 0.9: (0.9727652, 0.9779453849698194)}"
      ]
     },
     "execution_count": 145,
     "metadata": {},
     "output_type": "execute_result"
    }
   ],
   "source": [
    "quantiles_beta(least_squares_beta_parameters_per_map[\"1695b31\"],score_data_by_map_id[\"1695b31\"],10)"
   ]
  },
  {
   "cell_type": "code",
   "execution_count": null,
   "id": "7eecfc1d-fbf3-4c27-8a2a-df0f5bc5bb38",
   "metadata": {},
   "outputs": [],
   "source": []
  }
 ],
 "metadata": {
  "kernelspec": {
   "display_name": "Python 3 (ipykernel)",
   "language": "python",
   "name": "python3"
  },
  "language_info": {
   "codemirror_mode": {
    "name": "ipython",
    "version": 3
   },
   "file_extension": ".py",
   "mimetype": "text/x-python",
   "name": "python",
   "nbconvert_exporter": "python",
   "pygments_lexer": "ipython3",
   "version": "3.12.7"
  }
 },
 "nbformat": 4,
 "nbformat_minor": 5
}
